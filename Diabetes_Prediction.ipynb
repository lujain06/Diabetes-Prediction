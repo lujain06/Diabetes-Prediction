{
  "nbformat": 4,
  "nbformat_minor": 0,
  "metadata": {
    "colab": {
      "provenance": [],
      "authorship_tag": "ABX9TyNUelh23MC5YO3GNj9QEkA4",
      "include_colab_link": true
    },
    "kernelspec": {
      "name": "python3",
      "display_name": "Python 3"
    },
    "language_info": {
      "name": "python"
    }
  },
  "cells": [
    {
      "cell_type": "markdown",
      "metadata": {
        "id": "view-in-github",
        "colab_type": "text"
      },
      "source": [
        "<a href=\"https://colab.research.google.com/github/lujain06/Diabetes-Prediction/blob/main/Diabetes_Prediction.ipynb\" target=\"_parent\"><img src=\"https://colab.research.google.com/assets/colab-badge.svg\" alt=\"Open In Colab\"/></a>"
      ]
    },
    {
      "cell_type": "code",
      "execution_count": null,
      "metadata": {
        "id": "ll7njOumU39X"
      },
      "outputs": [],
      "source": [
        "%matplotlib inline"
      ]
    },
    {
      "cell_type": "code",
      "source": [
        "from matplotlib import pyplot as plt\n",
        "import numpy as np"
      ],
      "metadata": {
        "id": "eyR5o7R7VIpJ"
      },
      "execution_count": null,
      "outputs": []
    },
    {
      "cell_type": "code",
      "source": [
        "#Data\n",
        "data = [\n",
        "    [6.5, 2.00, 1],\n",
        "    [6.5, 2.00, 1],\n",
        "    [5.7, 2.60, 1],\n",
        "    [9, 1.60, 1],\n",
        "    [7, 1.59, 1],\n",
        "    [9, 1.59, 1],\n",
        "    [8.8, 1.55, 1],\n",
        "    [8.2, 1.26, 1],\n",
        "    [6.2, 2.20, 1],\n",
        "    [7.5, 3.00, 1],\n",
        "    [6.8, 2.80, 1],\n",
        "    [6.5, 2.80, 1],\n",
        "    [9, 1.55, 1],\n",
        "    [7.5, 1.55, 1],\n",
        "    [7, 3.00, 1],\n",
        "    [6.6, 2.80, 1],\n",
        "    [7.5, 1.55, 1],\n",
        "    [6.5, 3.00, 1],\n",
        "    [9, 1.40, 1],\n",
        "    [6.5, 3.00, 1],\n",
        "    [6.8, 1.59, 1],\n",
        "    [6.6, 1.60, 1],\n",
        "    [6.6, 1.60, 1],\n",
        "    [5.8, 2.00, 1],\n",
        "    [8.2, 2.40, 1],\n",
        "    [6.5, 3.30, 1],\n",
        "    [7, 1.45, 1],\n",
        "    [9, 1.59, 1],\n",
        "    [6.5, 2.00, 1],\n",
        "    [6.5, 2.00, 1],\n",
        "    [9, 1.59, 1],\n",
        "    [6.5, 2.00, 1],\n",
        "    [8.2, 1.26, 1],\n",
        "    [5, 1.00, 0],\n",
        "    [6, 1.00, 0],\n",
        "    [5, 1.30, 0],\n",
        "    [5.8, 2.00, 0],\n",
        "    [5, 1.60, 0],\n",
        "    [5.7, 1.58, 0],\n",
        "    [5.7, .80, 0],\n",
        "    [3.5, 1.59, 0],\n",
        "    [6, .90, 0],\n",
        "    [4.8, .85, 0],\n",
        "    [4, 1.40, 0],\n",
        "    [6.1, 1.26, 0],\n",
        "    [5.8, .80, 0],\n",
        "    [4, 1.58, 0],\n",
        "    [6.1, 1.5, 0],\n",
        "    [4, 2.00, 0],\n",
        "    [4, 1.45, 0],\n",
        "    [3.5, 1.00, 0],\n",
        "    [5, .85, 0],\n",
        "    [5.8, .85, 0],\n",
        "    [4.5, 1.30, 0],\n",
        "    [5, 1.59, 0],\n",
        "    [4.8, 1.59, 0],\n",
        "    [3.5, 1.60, 0],\n",
        "    [5, .90, 0],\n",
        "    [4, 1.59, 0],\n",
        "    [5, .85, 0],\n",
        "    [4, 2.00, 0],\n",
        "    [5, 1.00, 0],\n",
        "    [4.8, 1.30, 0],\n",
        "    [6.6, 1.40, 0],\n",
        "    [3.5, 1.55, 0],\n",
        "    [5, 1.40, 0],\n",
        "    [4.8,.85, 0],\n",
        "    [5.8, 1.40, 0],\n",
        "    [4, .80, 0],\n",
        "    [6, 1.59, 0],\n",
        "    [5.7, 1.00, 0],\n",
        "    [5.8, 1.00, 0],\n",
        "    [5.7, 1.45, 0],\n",
        "    [5, .90, 0],\n",
        "    [4.8, 2.00, 0],\n",
        "    [5.7, 1.60, 0],\n",
        "    [5.8, 1.58, 0],\n",
        "    [6.2, .90, 0],\n",
        "    [6.2, 1.45, 0],\n",
        "    [3.5, 1.26, 0],\n",
        "    [3.5, .90, 0],\n",
        "    [5.7, 1.30, 0],\n",
        "    [5.7, 1.58, 0],\n",
        "    [5.8, .90, 0],\n",
        "    [4, 1.60, 0],\n",
        "    [5.7, 1.59, 0],\n",
        "    [4.5, 2.00, 0],\n",
        "    [4, .90, 0],\n",
        "    [6.1, 2.00, 0],\n",
        "    [5.8, 1.55, 0],\n",
        "    [6, .85, 0],\n",
        "    [4.8, .85, 0],\n",
        "    [6.2, 1.55, 0],\n",
        "    [5.7, 1.45, 0],\n",
        "    [5, 1.60, 0],\n",
        "    [6, 1.00, 0]\n",
        "]\n",
        "\n",
        "mystery_person = [7.5, 3.00] #This person is diabteic"
      ],
      "metadata": {
        "id": "sukxh6FvVKQN"
      },
      "execution_count": null,
      "outputs": []
    },
    {
      "cell_type": "code",
      "source": [
        "# netwrok\n",
        "\n",
        "#   0   Diabetes yes/no\n",
        "#  / \\  w1,w2,b\n",
        "# 0   0 blood_glucose_levels, HbA1c_level"
      ],
      "metadata": {
        "id": "LuaHoRaHwg74"
      },
      "execution_count": null,
      "outputs": []
    },
    {
      "cell_type": "code",
      "source": [
        "def sigmoid(x):\n",
        "    return 1/(1+np.exp(-x))\n",
        "\n",
        "def sigmoid_p(x):\n",
        "  return sigmoid(x) * (1-sigmoid(x))"
      ],
      "metadata": {
        "id": "ZRsEYQdOZCwZ"
      },
      "execution_count": null,
      "outputs": []
    },
    {
      "cell_type": "code",
      "source": [
        "T = np.linspace(-6,6,100)\n",
        "plt.plot(T, sigmoid(T), c = 'r')\n",
        "plt.plot(T, sigmoid_p(T), c='b')"
      ],
      "metadata": {
        "colab": {
          "base_uri": "https://localhost:8080/",
          "height": 448
        },
        "id": "0IftvGwvZKXh",
        "outputId": "11cca34f-53e3-4d57-ef92-4da56cac7fbb"
      },
      "execution_count": null,
      "outputs": [
        {
          "output_type": "execute_result",
          "data": {
            "text/plain": [
              "[<matplotlib.lines.Line2D at 0x7d747621df30>]"
            ]
          },
          "metadata": {},
          "execution_count": 6
        },
        {
          "output_type": "display_data",
          "data": {
            "text/plain": [
              "<Figure size 640x480 with 1 Axes>"
            ],
            "image/png": "[encoded data removed]"
          },
          "metadata": {}
        }
      ]
    },
    {
      "cell_type": "code",
      "source": [
        "# scatter data\n",
        "plt.axis([0,9.5,0,3.50])\n",
        "plt.grid()\n",
        "for i in range(len(data)):\n",
        "  point = data[i]\n",
        "  color = \"r\"\n",
        "  if point[2] == 0:\n",
        "    color = \"b\"\n",
        "  plt.scatter(point[0], point[1], c = color)"
      ],
      "metadata": {
        "colab": {
          "base_uri": "https://localhost:8080/",
          "height": 435
        },
        "id": "mlJbNAwOZMay",
        "outputId": "1ff92d3e-21a7-4ecc-ecde-2acfdba0655b"
      },
      "execution_count": null,
      "outputs": [
        {
          "output_type": "display_data",
          "data": {
            "text/plain": [
              "<Figure size 640x480 with 1 Axes>"
            ],
            "image/png": "[encoded data removed]"
          },
          "metadata": {}
        }
      ]
    },
    {
      "cell_type": "code",
      "source": [
        "# training loop\n",
        "\n",
        "learning_rate = .05\n",
        "costs = []\n",
        "\n",
        "w1 = np.random.randn()\n",
        "w2 = np.random.randn()\n",
        "b = np.random.randn()\n",
        "\n",
        "for i in range(50000):\n",
        "  ri = np.random.randint(len(data))\n",
        "  point = data[ri]\n",
        "\n",
        "  z = point[0] * w1 + point[1] * w2 + b\n",
        "  pred = sigmoid(z)\n",
        "\n",
        "  target = point[2]\n",
        "  cost = np.square(pred - target)\n",
        "\n",
        "  dcost_pred = 2 * (pred-target)\n",
        "  dpred_dz = sigmoid_p(z)\n",
        "\n",
        "  dz_dw1 = point[0]\n",
        "  dz_dw2 = point[1]\n",
        "  dz_db = 1\n",
        "\n",
        "  dcost_dz =  dcost_pred * dpred_dz\n",
        "\n",
        "  dcost_dw1 = dcost_dz * dz_dw1\n",
        "  dcost_dw2 = dcost_dz * dz_dw2\n",
        "  dcost_db = dcost_dz * dz_db\n",
        "\n",
        "  w1 = w1 - learning_rate * dcost_dw1\n",
        "  w2 = w2 - learning_rate * dcost_dw2\n",
        "  b = b - learning_rate * dcost_db\n",
        "\n",
        "  if i % 100 == 0:\n",
        "    cost_sum = 0\n",
        "    for j in range(len(data)):\n",
        "      point = data[ri]\n",
        "\n",
        "      z = point[0] * w1 + point[1] *w2 +b\n",
        "      pred = sigmoid(z)\n",
        "\n",
        "      target = point[2]\n",
        "      cost_sum += np.square(pred - target)\n",
        "    costs.append(cost_sum/len(data))\n",
        "\n",
        "plt.plot(costs)"
      ],
      "metadata": {
        "colab": {
          "base_uri": "https://localhost:8080/",
          "height": 448
        },
        "id": "aYsCJbC9ZRQW",
        "outputId": "b9f24fbd-432f-47c7-9bfe-47c66f0fd8f1"
      },
      "execution_count": null,
      "outputs": [
        {
          "output_type": "execute_result",
          "data": {
            "text/plain": [
              "[<matplotlib.lines.Line2D at 0x7d74583e6aa0>]"
            ]
          },
          "metadata": {},
          "execution_count": 8
        },
        {
          "output_type": "display_data",
          "data": {
            "text/plain": [
              "<Figure size 640x480 with 1 Axes>"
            ],
            "image/png": "[encoded data removed]"
          },
          "metadata": {}
        }
      ]
    },
    {
      "cell_type": "code",
      "source": [
        "# seeing model predictions\n",
        "\n",
        "for i in range(len(data)):\n",
        "  point = data[i]\n",
        "  print(point)\n",
        "  z = point[0] * w1 + point[1] * w2 + b\n",
        "  pred = sigmoid(z)\n",
        "  print(\"pred: {}\".format(pred))"
      ],
      "metadata": {
        "colab": {
          "base_uri": "https://localhost:8080/"
        },
        "id": "Wg60Z2zw-6JX",
        "outputId": "9e9749f9-289e-4235-8401-8968c05a15f7"
      },
      "execution_count": null,
      "outputs": [
        {
          "output_type": "stream",
          "name": "stdout",
          "text": [
            "[6.5, 2.0, 1]\n",
            "pred: 0.8198169372220484\n",
            "[6.5, 2.0, 1]\n",
            "pred: 0.8198169372220484\n",
            "[5.7, 2.6, 1]\n",
            "pred: 0.8429718528710853\n",
            "[9, 1.6, 1]\n",
            "pred: 0.9927539857176746\n",
            "[7, 1.59, 1]\n",
            "pred: 0.7889607679566784\n",
            "[9, 1.59, 1]\n",
            "pred: 0.9925601936553462\n",
            "[8.8, 1.55, 1]\n",
            "pred: 0.9882212771729781\n",
            "[8.2, 1.26, 1]\n",
            "pred: 0.9299625898167349\n",
            "[6.2, 2.2, 1]\n",
            "pred: 0.8191592658616925\n",
            "[7.5, 3.0, 1]\n",
            "pred: 0.9974301664998408\n",
            "[6.8, 2.8, 1]\n",
            "pred: 0.9849082728762676\n",
            "[6.5, 2.8, 1]\n",
            "pred: 0.9744736505121646\n",
            "[9, 1.55, 1]\n",
            "pred: 0.9917322348798691\n",
            "[7.5, 1.55, 1]\n",
            "pred: 0.8914860635013766\n",
            "[7, 3.0, 1]\n",
            "pred: 0.9937421957850537\n",
            "[6.6, 2.8, 1]\n",
            "pred: 0.9785621188116062\n",
            "[7.5, 1.55, 1]\n",
            "pred: 0.8914860635013766\n",
            "[6.5, 3.0, 1]\n",
            "pred: 0.9848420463245238\n",
            "[9, 1.4, 1]\n",
            "pred: 0.9877301159423281\n",
            "[6.5, 3.0, 1]\n",
            "pred: 0.9848420463245238\n",
            "[6.8, 1.59, 1]\n",
            "pred: 0.7233611035685986\n",
            "[6.6, 1.6, 1]\n",
            "pred: 0.6525590631428398\n",
            "[6.6, 1.6, 1]\n",
            "pred: 0.6525590631428398\n",
            "[5.8, 2.0, 1]\n",
            "pred: 0.5656041202576292\n",
            "[8.2, 2.4, 1]\n",
            "pred: 0.996378365881368\n",
            "[6.5, 3.3, 1]\n",
            "pred: 0.9931157452072419\n",
            "[7, 1.45, 1]\n",
            "pred: 0.7203974218203725\n",
            "[9, 1.59, 1]\n",
            "pred: 0.9925601936553462\n",
            "[6.5, 2.0, 1]\n",
            "pred: 0.8198169372220484\n",
            "[6.5, 2.0, 1]\n",
            "pred: 0.8198169372220484\n",
            "[9, 1.59, 1]\n",
            "pred: 0.9925601936553462\n",
            "[6.5, 2.0, 1]\n",
            "pred: 0.8198169372220484\n",
            "[8.2, 1.26, 1]\n",
            "pred: 0.9299625898167349\n",
            "[5, 1.0, 0]\n",
            "pred: 0.021356356264591377\n",
            "[6, 1.0, 0]\n",
            "pred: 0.11532837708514393\n",
            "[5, 1.3, 0]\n",
            "pred: 0.04621368397109532\n",
            "[5.8, 2.0, 0]\n",
            "pred: 0.5656041202576292\n",
            "[5, 1.6, 0]\n",
            "pred: 0.09713166839174761\n",
            "[5.7, 1.58, 0]\n",
            "pred: 0.26279018008933847\n",
            "[5.7, 0.8, 0]\n",
            "pred: 0.042884312249882046\n",
            "[3.5, 1.59, 0]\n",
            "pred: 0.007123723782441673\n",
            "[6, 0.9, 0]\n",
            "pred: 0.09084855207251136\n",
            "[4.8, 0.85, 0]\n",
            "pred: 0.010139529306204513\n",
            "[4, 1.4, 0]\n",
            "pred: 0.010470538881547144\n",
            "[6.1, 1.26, 0]\n",
            "pred: 0.2373263576729217\n",
            "[5.8, 0.8, 0]\n",
            "pred: 0.05085034010412205\n",
            "[4, 1.58, 0]\n",
            "pred: 0.01678946979070655\n",
            "[6.1, 1.5, 0]\n",
            "pred: 0.370687066828147\n",
            "[4, 2.0, 0]\n",
            "pred: 0.049578177206054244\n",
            "[4, 1.45, 0]\n",
            "pred: 0.011941506379685054\n",
            "[3.5, 1.0, 0]\n",
            "pred: 0.0014923706709389266\n",
            "[5, 0.85, 0]\n",
            "pred: 0.01443377485569533\n",
            "[5.8, 0.85, 0]\n",
            "pred: 0.05766354175683374\n",
            "[4.5, 1.3, 0]\n",
            "pred: 0.019438756231130252\n",
            "[5, 1.59, 0]\n",
            "pred: 0.09482478194357694\n",
            "[4.8, 1.59, 0]\n",
            "pred: 0.06826986414739632\n",
            "[3.5, 1.6, 0]\n",
            "pred: 0.007314269325825957\n",
            "[5, 0.9, 0]\n",
            "pred: 0.01645226557163278\n",
            "[4, 1.59, 0]\n",
            "pred: 0.01723406729406749\n",
            "[5, 0.85, 0]\n",
            "pred: 0.01443377485569533\n",
            "[4, 2.0, 0]\n",
            "pred: 0.049578177206054244\n",
            "[5, 1.0, 0]\n",
            "pred: 0.021356356264591377\n",
            "[4.8, 1.3, 0]\n",
            "pred: 0.03277894294794857\n",
            "[6.6, 1.4, 0]\n",
            "pred: 0.5246144209494761\n",
            "[3.5, 1.55, 0]\n",
            "pred: 0.006409592280588724\n",
            "[5, 1.4, 0]\n",
            "pred: 0.059452811987867546\n",
            "[4.8, 0.85, 0]\n",
            "pred: 0.010139529306204513\n",
            "[5.8, 1.4, 0]\n",
            "pred: 0.20893271232852054\n",
            "[4, 0.8, 0]\n",
            "pred: 0.0021417821383588726\n",
            "[6, 1.59, 0]\n",
            "pred: 0.3849209988835387\n",
            "[5.7, 1.0, 0]\n",
            "pred: 0.07085373023956461\n",
            "[5.8, 1.0, 0]\n",
            "pred: 0.0835616553366289\n",
            "[5.7, 1.45, 0]\n",
            "pred: 0.20146439543149494\n",
            "[5, 0.9, 0]\n",
            "pred: 0.01645226557163278\n",
            "[4.8, 2.0, 0]\n",
            "pred: 0.17895448725977683\n",
            "[5.7, 1.6, 0]\n",
            "pred: 0.27322135489082267\n",
            "[5.8, 1.58, 0]\n",
            "pred: 0.2988504100193373\n",
            "[6.2, 0.9, 0]\n",
            "pred: 0.12500758490670913\n",
            "[6.2, 1.45, 0]\n",
            "pred: 0.38143205280211967\n",
            "[3.5, 1.26, 0]\n",
            "pred: 0.0029748114897430525\n",
            "[3.5, 0.9, 0]\n",
            "pred: 0.0011443417514185874\n",
            "[5.7, 1.3, 0]\n",
            "pred: 0.14479848524827724\n",
            "[5.7, 1.58, 0]\n",
            "pred: 0.26279018008933847\n",
            "[5.8, 0.9, 0]\n",
            "pred: 0.06532678302550317\n",
            "[4, 1.6, 0]\n",
            "pred: 0.017690226237905036\n",
            "[5.7, 1.59, 0]\n",
            "pred: 0.267973593228037\n",
            "[4.5, 2.0, 0]\n",
            "pred: 0.1130796668692624\n",
            "[4, 0.9, 0]\n",
            "pred: 0.0027923148076230923\n",
            "[6.1, 2.0, 0]\n",
            "pred: 0.6900073494799925\n",
            "[5.8, 1.55, 0]\n",
            "pred: 0.2824089669846699\n",
            "[6, 0.85, 0]\n",
            "pred: 0.08044913490098828\n",
            "[4.8, 0.85, 0]\n",
            "pred: 0.010139529306204513\n",
            "[6.2, 1.55, 0]\n",
            "pred: 0.4458162353350636\n",
            "[5.7, 1.45, 0]\n",
            "pred: 0.20146439543149494\n",
            "[5, 1.6, 0]\n",
            "pred: 0.09713166839174761\n",
            "[6, 1.0, 0]\n",
            "pred: 0.11532837708514393\n"
          ]
        }
      ]
    },
    {
      "cell_type": "code",
      "source": [
        "z = mystery_person[0] * w1 + mystery_person[1] * w2 + b\n",
        "pred = sigmoid(z)\n",
        "pred"
      ],
      "metadata": {
        "colab": {
          "base_uri": "https://localhost:8080/"
        },
        "id": "IgY4mUqP_b8a",
        "outputId": "49964654-95bf-41b8-ff1f-9e4da4e59633"
      },
      "execution_count": null,
      "outputs": [
        {
          "output_type": "execute_result",
          "data": {
            "text/plain": [
              "0.9974301664998408"
            ]
          },
          "metadata": {},
          "execution_count": 10
        }
      ]
    },
    {
      "cell_type": "code",
      "source": [
        "def diabetes_present(hbA1c_level, blood_glucose_levels):\n",
        "  z = hbA1c_level * w1 + blood_glucose_levels + b\n",
        "  pred = sigmoid(z)\n",
        "  if pred < .5:\n",
        "    print('Not Diabetic')\n",
        "  else:\n",
        "    print('Likely Diabetic')"
      ],
      "metadata": {
        "id": "tiUWk_5oE2s-"
      },
      "execution_count": null,
      "outputs": []
    },
    {
      "cell_type": "code",
      "source": [
        "diabetes_present(2,.85)"
      ],
      "metadata": {
        "colab": {
          "base_uri": "https://localhost:8080/"
        },
        "id": "5UNugFntFjf7",
        "outputId": "7c5c5381-a694-4170-dad2-471ae2d18d2b"
      },
      "execution_count": null,
      "outputs": [
        {
          "output_type": "stream",
          "name": "stdout",
          "text": [
            "Not Diabetic\n"
          ]
        }
      ]
    },
    {
      "cell_type": "code",
      "source": [
        "diabetes_present(7.5,3.00)"
      ],
      "metadata": {
        "id": "bK_aHbSoGb86",
        "colab": {
          "base_uri": "https://localhost:8080/"
        },
        "outputId": "bb48bd96-0ed1-477e-f1fd-9e8e2f11b0d6"
      },
      "execution_count": null,
      "outputs": [
        {
          "output_type": "stream",
          "name": "stdout",
          "text": [
            "Likely Diabetic\n"
          ]
        }
      ]
    },
    {
      "cell_type": "code",
      "source": [],
      "metadata": {
        "id": "mK8aPkN3PqFp",
        "colab": {
          "base_uri": "https://localhost:8080/"
        },
        "outputId": "6801217f-5970-495a-e189-3356f30f97f7"
      },
      "execution_count": null,
      "outputs": [
        {
          "output_type": "stream",
          "name": "stdout",
          "text": [
            "Not Diabetic\n"
          ]
        }
      ]
    },
    {
      "cell_type": "code",
      "source": [],
      "metadata": {
        "colab": {
          "base_uri": "https://localhost:8080/"
        },
        "id": "BxFvfw4ZwL0d",
        "outputId": "9c500534-06d7-46ee-cd9b-149fd4f95006"
      },
      "execution_count": null,
      "outputs": [
        {
          "output_type": "stream",
          "name": "stdout",
          "text": [
            "Not Diabetic\n"
          ]
        }
      ]
    },
    {
      "cell_type": "code",
      "source": [],
      "metadata": {
        "id": "YhwhBT5AwiJe"
      },
      "execution_count": null,
      "outputs": []
    }
  ]
}